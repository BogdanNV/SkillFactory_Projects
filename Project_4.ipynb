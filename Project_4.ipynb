{
 "cells": [
  {
   "cell_type": "markdown",
   "id": "c353de9a",
   "metadata": {},
   "source": [
    "# Проект: классификация"
   ]
  },
  {
   "cell_type": "code",
   "execution_count": 1,
   "id": "4a6e54dc",
   "metadata": {},
   "outputs": [],
   "source": [
    "import pandas as pd\n",
    "import numpy as np\n",
    "import matplotlib.pyplot as plt\n",
    "import seaborn as sns\n",
    "from  sklearn.ensemble import IsolationForest\n",
    "import warnings\n",
    "warnings.filterwarnings('ignore')\n",
    "from sklearn.preprocessing  import LabelEncoder\n",
    "from sklearn import linear_model \n",
    "from sklearn import tree \n",
    "from sklearn import ensemble \n",
    "from sklearn import metrics \n",
    "from sklearn import preprocessing \n",
    "from sklearn.model_selection import train_test_split \n",
    "from sklearn.feature_selection import SelectKBest, f_classif"
   ]
  },
  {
   "cell_type": "code",
   "execution_count": 2,
   "id": "6901eb59",
   "metadata": {},
   "outputs": [],
   "source": [
    "%matplotlib inline\n",
    "plt.style.use('seaborn')"
   ]
  },
  {
   "cell_type": "markdown",
   "id": "71559b60",
   "metadata": {},
   "source": [
    "## Часть 1. Знакомство с данными, обработка пропусков и выбросов"
   ]
  },
  {
   "cell_type": "markdown",
   "id": "7c5e31b2",
   "metadata": {},
   "source": [
    "### Задание 1"
   ]
  },
  {
   "cell_type": "code",
   "execution_count": 3,
   "id": "20730cd7",
   "metadata": {},
   "outputs": [
    {
     "data": {
      "text/html": [
       "<div>\n",
       "<style scoped>\n",
       "    .dataframe tbody tr th:only-of-type {\n",
       "        vertical-align: middle;\n",
       "    }\n",
       "\n",
       "    .dataframe tbody tr th {\n",
       "        vertical-align: top;\n",
       "    }\n",
       "\n",
       "    .dataframe thead th {\n",
       "        text-align: right;\n",
       "    }\n",
       "</style>\n",
       "<table border=\"1\" class=\"dataframe\">\n",
       "  <thead>\n",
       "    <tr style=\"text-align: right;\">\n",
       "      <th></th>\n",
       "      <th>age</th>\n",
       "      <th>job</th>\n",
       "      <th>marital</th>\n",
       "      <th>education</th>\n",
       "      <th>default</th>\n",
       "      <th>balance</th>\n",
       "      <th>housing</th>\n",
       "      <th>loan</th>\n",
       "      <th>contact</th>\n",
       "      <th>day</th>\n",
       "      <th>month</th>\n",
       "      <th>duration</th>\n",
       "      <th>campaign</th>\n",
       "      <th>pdays</th>\n",
       "      <th>previous</th>\n",
       "      <th>poutcome</th>\n",
       "      <th>deposit</th>\n",
       "    </tr>\n",
       "  </thead>\n",
       "  <tbody>\n",
       "    <tr>\n",
       "      <th>0</th>\n",
       "      <td>59</td>\n",
       "      <td>admin.</td>\n",
       "      <td>married</td>\n",
       "      <td>secondary</td>\n",
       "      <td>no</td>\n",
       "      <td>2 343,00 $</td>\n",
       "      <td>yes</td>\n",
       "      <td>no</td>\n",
       "      <td>unknown</td>\n",
       "      <td>5</td>\n",
       "      <td>may</td>\n",
       "      <td>1042</td>\n",
       "      <td>1</td>\n",
       "      <td>-1</td>\n",
       "      <td>0</td>\n",
       "      <td>unknown</td>\n",
       "      <td>yes</td>\n",
       "    </tr>\n",
       "    <tr>\n",
       "      <th>1</th>\n",
       "      <td>56</td>\n",
       "      <td>admin.</td>\n",
       "      <td>married</td>\n",
       "      <td>secondary</td>\n",
       "      <td>no</td>\n",
       "      <td>45,00 $</td>\n",
       "      <td>no</td>\n",
       "      <td>no</td>\n",
       "      <td>unknown</td>\n",
       "      <td>5</td>\n",
       "      <td>may</td>\n",
       "      <td>1467</td>\n",
       "      <td>1</td>\n",
       "      <td>-1</td>\n",
       "      <td>0</td>\n",
       "      <td>unknown</td>\n",
       "      <td>yes</td>\n",
       "    </tr>\n",
       "    <tr>\n",
       "      <th>2</th>\n",
       "      <td>41</td>\n",
       "      <td>technician</td>\n",
       "      <td>married</td>\n",
       "      <td>secondary</td>\n",
       "      <td>no</td>\n",
       "      <td>1 270,00 $</td>\n",
       "      <td>yes</td>\n",
       "      <td>no</td>\n",
       "      <td>unknown</td>\n",
       "      <td>5</td>\n",
       "      <td>may</td>\n",
       "      <td>1389</td>\n",
       "      <td>1</td>\n",
       "      <td>-1</td>\n",
       "      <td>0</td>\n",
       "      <td>unknown</td>\n",
       "      <td>yes</td>\n",
       "    </tr>\n",
       "    <tr>\n",
       "      <th>3</th>\n",
       "      <td>55</td>\n",
       "      <td>services</td>\n",
       "      <td>married</td>\n",
       "      <td>secondary</td>\n",
       "      <td>no</td>\n",
       "      <td>2 476,00 $</td>\n",
       "      <td>yes</td>\n",
       "      <td>no</td>\n",
       "      <td>unknown</td>\n",
       "      <td>5</td>\n",
       "      <td>may</td>\n",
       "      <td>579</td>\n",
       "      <td>1</td>\n",
       "      <td>-1</td>\n",
       "      <td>0</td>\n",
       "      <td>unknown</td>\n",
       "      <td>yes</td>\n",
       "    </tr>\n",
       "    <tr>\n",
       "      <th>4</th>\n",
       "      <td>54</td>\n",
       "      <td>admin.</td>\n",
       "      <td>married</td>\n",
       "      <td>tertiary</td>\n",
       "      <td>no</td>\n",
       "      <td>184,00 $</td>\n",
       "      <td>no</td>\n",
       "      <td>no</td>\n",
       "      <td>unknown</td>\n",
       "      <td>5</td>\n",
       "      <td>may</td>\n",
       "      <td>673</td>\n",
       "      <td>2</td>\n",
       "      <td>-1</td>\n",
       "      <td>0</td>\n",
       "      <td>unknown</td>\n",
       "      <td>yes</td>\n",
       "    </tr>\n",
       "  </tbody>\n",
       "</table>\n",
       "</div>"
      ],
      "text/plain": [
       "   age         job  marital  education default       balance housing loan   \n",
       "0   59      admin.  married  secondary      no   2 343,00 $      yes   no  \\\n",
       "1   56      admin.  married  secondary      no      45,00 $       no   no   \n",
       "2   41  technician  married  secondary      no   1 270,00 $      yes   no   \n",
       "3   55    services  married  secondary      no   2 476,00 $      yes   no   \n",
       "4   54      admin.  married   tertiary      no     184,00 $       no   no   \n",
       "\n",
       "   contact  day month  duration  campaign  pdays  previous poutcome deposit  \n",
       "0  unknown    5   may      1042         1     -1         0  unknown     yes  \n",
       "1  unknown    5   may      1467         1     -1         0  unknown     yes  \n",
       "2  unknown    5   may      1389         1     -1         0  unknown     yes  \n",
       "3  unknown    5   may       579         1     -1         0  unknown     yes  \n",
       "4  unknown    5   may       673         2     -1         0  unknown     yes  "
      ]
     },
     "execution_count": 3,
     "metadata": {},
     "output_type": "execute_result"
    }
   ],
   "source": [
    "df = pd.read_csv(r'data\\bank_fin.zip', sep=';')\n",
    "df.head()"
   ]
  },
  {
   "cell_type": "code",
   "execution_count": 4,
   "id": "ba11dc67",
   "metadata": {},
   "outputs": [
    {
     "data": {
      "text/plain": [
       "balance    25\n",
       "dtype: int64"
      ]
     },
     "execution_count": 4,
     "metadata": {},
     "output_type": "execute_result"
    }
   ],
   "source": [
    "# исследуйте данные на предмет пропусков. Где есть пропущенные значения? Сколько их?\n",
    "# ваш код\n",
    "df[df.columns[df.isnull().sum() > 0]].isnull().sum()"
   ]
  },
  {
   "cell_type": "markdown",
   "id": "6366f059",
   "metadata": {},
   "source": [
    "### Задание 2"
   ]
  },
  {
   "cell_type": "code",
   "execution_count": 5,
   "id": "98ea29d4",
   "metadata": {},
   "outputs": [
    {
     "data": {
      "text/plain": [
       "array(['admin.', 'technician', 'services', 'management', 'retired',\n",
       "       'blue-collar', 'unemployed', 'entrepreneur', 'housemaid',\n",
       "       'unknown', 'self-employed', 'student'], dtype=object)"
      ]
     },
     "execution_count": 5,
     "metadata": {},
     "output_type": "execute_result"
    }
   ],
   "source": [
    "# есть ли в признаке job пропущенные значения? Возможно, они обозначены каким-то специальным словом?\n",
    "# ваш код\n",
    "df['job'].unique()"
   ]
  },
  {
   "cell_type": "markdown",
   "id": "8fcf4fcd",
   "metadata": {},
   "source": [
    "### Задание 3"
   ]
  },
  {
   "cell_type": "code",
   "execution_count": 6,
   "id": "be786c26",
   "metadata": {},
   "outputs": [
    {
     "name": "stdout",
     "output_type": "stream",
     "text": [
      "<class 'pandas.core.frame.DataFrame'>\n",
      "RangeIndex: 11162 entries, 0 to 11161\n",
      "Data columns (total 17 columns):\n",
      " #   Column     Non-Null Count  Dtype \n",
      "---  ------     --------------  ----- \n",
      " 0   age        11162 non-null  int64 \n",
      " 1   job        11162 non-null  object\n",
      " 2   marital    11162 non-null  object\n",
      " 3   education  11162 non-null  object\n",
      " 4   default    11162 non-null  object\n",
      " 5   balance    11137 non-null  object\n",
      " 6   housing    11162 non-null  object\n",
      " 7   loan       11162 non-null  object\n",
      " 8   contact    11162 non-null  object\n",
      " 9   day        11162 non-null  int64 \n",
      " 10  month      11162 non-null  object\n",
      " 11  duration   11162 non-null  int64 \n",
      " 12  campaign   11162 non-null  int64 \n",
      " 13  pdays      11162 non-null  int64 \n",
      " 14  previous   11162 non-null  int64 \n",
      " 15  poutcome   11162 non-null  object\n",
      " 16  deposit    11162 non-null  object\n",
      "dtypes: int64(6), object(11)\n",
      "memory usage: 1.4+ MB\n"
     ]
    }
   ],
   "source": [
    "df.info()"
   ]
  },
  {
   "cell_type": "code",
   "execution_count": 4,
   "id": "3a01be5e",
   "metadata": {},
   "outputs": [],
   "source": [
    "# преобразуйте признак balance таким образом, чтобы он корректно считывался, как вещественное число (float)\n",
    "df['balance'] = df['balance'].apply(lambda x: x.strip().replace(' ', '').replace(',00$', '').replace('$', '') if type(x) != np.float else x).astype('float')\n"
   ]
  },
  {
   "cell_type": "code",
   "execution_count": 8,
   "id": "96caf0b9",
   "metadata": {},
   "outputs": [
    {
     "data": {
      "text/plain": [
       "1529.129"
      ]
     },
     "execution_count": 8,
     "metadata": {},
     "output_type": "execute_result"
    }
   ],
   "source": [
    "round(df['balance'].mean(), 3)"
   ]
  },
  {
   "cell_type": "markdown",
   "id": "6de63fd7",
   "metadata": {},
   "source": [
    "### Задание 4"
   ]
  },
  {
   "cell_type": "code",
   "execution_count": 5,
   "id": "6a684a63",
   "metadata": {},
   "outputs": [
    {
     "data": {
      "text/plain": [
       "1526.936"
      ]
     },
     "execution_count": 5,
     "metadata": {},
     "output_type": "execute_result"
    }
   ],
   "source": [
    "# обработайте пропуски в признаки balance , заменив их на медианные значения по данному признаку\n",
    "# ваш код\n",
    "df['balance'] = df['balance'].fillna(df['balance'].median())\n",
    "# df.loc[df['balance'].isnull(), 'balance'] = df['balance'].median()\n",
    "round(df['balance'].mean(), 3)"
   ]
  },
  {
   "cell_type": "markdown",
   "id": "1097ec42",
   "metadata": {},
   "source": [
    "### Задание 5"
   ]
  },
  {
   "cell_type": "code",
   "execution_count": 6,
   "id": "0fa070a6",
   "metadata": {},
   "outputs": [
    {
     "data": {
      "text/plain": [
       "1598.883"
      ]
     },
     "execution_count": 6,
     "metadata": {},
     "output_type": "execute_result"
    }
   ],
   "source": [
    "# обработайте пропуски в категориальных признаках: job и education, заменив их на модальные значения\n",
    "# ваш код\n",
    "popular_job = df['job'].mode()[0]\n",
    "popular_education = df['education'].mode()[0]\n",
    "df.loc[df['job'] == 'unknown', 'job'] = popular_job\n",
    "df.loc[df['education'] == 'unknown', 'education'] = popular_education\n",
    "\n",
    "mask1 = df['job'] == popular_job\n",
    "mask2 = df['education'] == popular_education\n",
    "round(df[mask1 & mask2]['balance'].mean(), 3)"
   ]
  },
  {
   "cell_type": "markdown",
   "id": "02af77c6",
   "metadata": {},
   "source": [
    "### Задание 6"
   ]
  },
  {
   "cell_type": "code",
   "execution_count": 7,
   "id": "3802cdd9",
   "metadata": {},
   "outputs": [
    {
     "data": {
      "text/plain": [
       "(10105, 17)"
      ]
     },
     "execution_count": 7,
     "metadata": {},
     "output_type": "execute_result"
    }
   ],
   "source": [
    "# удалите все выбросы для признака balance\n",
    "# ваш код\n",
    "def iqr(data, feature):\n",
    "    df = data[feature]\n",
    "    q1 = df.quantile(0.25)\n",
    "    q3 = df.quantile(0.75)\n",
    "    iqr = (q3 - q1)\n",
    "    lower = q1 - (1.5 * iqr)\n",
    "    upper = q3 + (1.5 * iqr)\n",
    "    out = data[(df < lower) | (df > upper)]\n",
    "    clear = data[(df >= lower) & (df <= upper)]\n",
    "    return upper, clear\n",
    "\n",
    "out, df_clear = iqr(df, 'balance')\n",
    "df_clear.shape"
   ]
  },
  {
   "cell_type": "code",
   "execution_count": 12,
   "id": "cb10682e",
   "metadata": {},
   "outputs": [
    {
     "data": {
      "text/plain": [
       "4063.0"
      ]
     },
     "execution_count": 12,
     "metadata": {},
     "output_type": "execute_result"
    }
   ],
   "source": [
    "out"
   ]
  },
  {
   "cell_type": "code",
   "execution_count": 8,
   "id": "b9a71282",
   "metadata": {},
   "outputs": [
    {
     "data": {
      "text/plain": [
       "count    10105.000000\n",
       "mean       807.653538\n",
       "std        994.151966\n",
       "min      -2049.000000\n",
       "25%         95.000000\n",
       "50%        445.000000\n",
       "75%       1227.000000\n",
       "max       4063.000000\n",
       "Name: balance, dtype: float64"
      ]
     },
     "execution_count": 8,
     "metadata": {},
     "output_type": "execute_result"
    }
   ],
   "source": [
    "df_clear['balance'].describe()"
   ]
  },
  {
   "cell_type": "markdown",
   "id": "5d22b8cd",
   "metadata": {},
   "source": [
    "## Часть 2:  Разведывательный анализ"
   ]
  },
  {
   "cell_type": "markdown",
   "id": "21e1f083",
   "metadata": {},
   "source": [
    "### Задание 1"
   ]
  },
  {
   "cell_type": "code",
   "execution_count": 14,
   "id": "6d0cd3a8",
   "metadata": {},
   "outputs": [
    {
     "data": {
      "image/png": "[encoded data removed]",
      "text/plain": [
       "<Figure size 411.625x360 with 1 Axes>"
      ]
     },
     "metadata": {},
     "output_type": "display_data"
    }
   ],
   "source": [
    "# изучите соотношение классов в ваших данных на предмет несбалансированности, проиллюстрируйте результат\n",
    "# ваш код\n",
    "fg = sns.displot(data=df_clear, x='deposit', hue='deposit')\n"
   ]
  },
  {
   "attachments": {},
   "cell_type": "markdown",
   "id": "552befb7",
   "metadata": {},
   "source": [
    "Данные сбалансированы"
   ]
  },
  {
   "cell_type": "markdown",
   "id": "426b1d40",
   "metadata": {},
   "source": [
    "### Задания 2 и 3"
   ]
  },
  {
   "cell_type": "code",
   "execution_count": 70,
   "id": "603cdb3c",
   "metadata": {},
   "outputs": [
    {
     "data": {
      "text/html": [
       "<div>\n",
       "<style scoped>\n",
       "    .dataframe tbody tr th:only-of-type {\n",
       "        vertical-align: middle;\n",
       "    }\n",
       "\n",
       "    .dataframe tbody tr th {\n",
       "        vertical-align: top;\n",
       "    }\n",
       "\n",
       "    .dataframe thead th {\n",
       "        text-align: right;\n",
       "    }\n",
       "</style>\n",
       "<table border=\"1\" class=\"dataframe\">\n",
       "  <thead>\n",
       "    <tr style=\"text-align: right;\">\n",
       "      <th></th>\n",
       "      <th>age</th>\n",
       "      <th>balance</th>\n",
       "      <th>day</th>\n",
       "      <th>duration</th>\n",
       "      <th>campaign</th>\n",
       "      <th>pdays</th>\n",
       "      <th>previous</th>\n",
       "    </tr>\n",
       "  </thead>\n",
       "  <tbody>\n",
       "    <tr>\n",
       "      <th>count</th>\n",
       "      <td>10084.000000</td>\n",
       "      <td>10084.000000</td>\n",
       "      <td>10084.000000</td>\n",
       "      <td>10084.000000</td>\n",
       "      <td>10084.000000</td>\n",
       "      <td>10084.000000</td>\n",
       "      <td>10084.000000</td>\n",
       "    </tr>\n",
       "    <tr>\n",
       "      <th>mean</th>\n",
       "      <td>40.901726</td>\n",
       "      <td>809.587069</td>\n",
       "      <td>15.585879</td>\n",
       "      <td>368.926121</td>\n",
       "      <td>2.515569</td>\n",
       "      <td>51.376140</td>\n",
       "      <td>0.817136</td>\n",
       "    </tr>\n",
       "    <tr>\n",
       "      <th>std</th>\n",
       "      <td>11.741909</td>\n",
       "      <td>997.223584</td>\n",
       "      <td>8.437886</td>\n",
       "      <td>346.702597</td>\n",
       "      <td>2.706558</td>\n",
       "      <td>109.720365</td>\n",
       "      <td>2.245712</td>\n",
       "    </tr>\n",
       "    <tr>\n",
       "      <th>min</th>\n",
       "      <td>18.000000</td>\n",
       "      <td>-2049.000000</td>\n",
       "      <td>1.000000</td>\n",
       "      <td>2.000000</td>\n",
       "      <td>1.000000</td>\n",
       "      <td>-1.000000</td>\n",
       "      <td>0.000000</td>\n",
       "    </tr>\n",
       "    <tr>\n",
       "      <th>25%</th>\n",
       "      <td>32.000000</td>\n",
       "      <td>94.000000</td>\n",
       "      <td>8.000000</td>\n",
       "      <td>137.000000</td>\n",
       "      <td>1.000000</td>\n",
       "      <td>-1.000000</td>\n",
       "      <td>0.000000</td>\n",
       "    </tr>\n",
       "    <tr>\n",
       "      <th>50%</th>\n",
       "      <td>38.000000</td>\n",
       "      <td>443.000000</td>\n",
       "      <td>15.000000</td>\n",
       "      <td>252.000000</td>\n",
       "      <td>2.000000</td>\n",
       "      <td>-1.000000</td>\n",
       "      <td>0.000000</td>\n",
       "    </tr>\n",
       "    <tr>\n",
       "      <th>75%</th>\n",
       "      <td>48.000000</td>\n",
       "      <td>1228.000000</td>\n",
       "      <td>22.000000</td>\n",
       "      <td>491.000000</td>\n",
       "      <td>3.000000</td>\n",
       "      <td>2.000000</td>\n",
       "      <td>1.000000</td>\n",
       "    </tr>\n",
       "    <tr>\n",
       "      <th>max</th>\n",
       "      <td>95.000000</td>\n",
       "      <td>4079.000000</td>\n",
       "      <td>31.000000</td>\n",
       "      <td>3881.000000</td>\n",
       "      <td>43.000000</td>\n",
       "      <td>854.000000</td>\n",
       "      <td>58.000000</td>\n",
       "    </tr>\n",
       "  </tbody>\n",
       "</table>\n",
       "</div>"
      ],
      "text/plain": [
       "                age       balance           day      duration      campaign  \\\n",
       "count  10084.000000  10084.000000  10084.000000  10084.000000  10084.000000   \n",
       "mean      40.901726    809.587069     15.585879    368.926121      2.515569   \n",
       "std       11.741909    997.223584      8.437886    346.702597      2.706558   \n",
       "min       18.000000  -2049.000000      1.000000      2.000000      1.000000   \n",
       "25%       32.000000     94.000000      8.000000    137.000000      1.000000   \n",
       "50%       38.000000    443.000000     15.000000    252.000000      2.000000   \n",
       "75%       48.000000   1228.000000     22.000000    491.000000      3.000000   \n",
       "max       95.000000   4079.000000     31.000000   3881.000000     43.000000   \n",
       "\n",
       "              pdays      previous  \n",
       "count  10084.000000  10084.000000  \n",
       "mean      51.376140      0.817136  \n",
       "std      109.720365      2.245712  \n",
       "min       -1.000000      0.000000  \n",
       "25%       -1.000000      0.000000  \n",
       "50%       -1.000000      0.000000  \n",
       "75%        2.000000      1.000000  \n",
       "max      854.000000     58.000000  "
      ]
     },
     "execution_count": 70,
     "metadata": {},
     "output_type": "execute_result"
    }
   ],
   "source": [
    "#рассчитайте описательные статистики для количественных переменных, проинтерпретируйте результат\n",
    "#ваш код\n",
    "\n",
    "# columns = list(df_clear.describe().columns)\n",
    "# n = len(columns)\n",
    "# fig, axes = plt.subplots(nrows=n, ncols=2, figsize=(15, 20))\n",
    "\n",
    "# for i, column in enumerate(columns):\n",
    "#     hist = sns.histplot(df_clear[column], ax=axes[i][0])\n",
    "#     hist.set_title(f\"{column} hist\")\n",
    "    \n",
    "#     reg = sns.boxplot(data=df_clear, x=column, ax=axes[i][1])\n",
    "#     reg.set_title(f\"{column} box\")\n",
    "# plt.tight_layout()\n",
    "\n",
    "df_clear.describe()"
   ]
  },
  {
   "attachments": {},
   "cell_type": "markdown",
   "id": "f71bc90a",
   "metadata": {},
   "source": [
    "Есть большие значения в признаке возраст, "
   ]
  },
  {
   "cell_type": "markdown",
   "id": "821dc39e",
   "metadata": {},
   "source": [
    "### Задания 4 и 5"
   ]
  },
  {
   "cell_type": "code",
   "execution_count": 118,
   "id": "bf45afc9",
   "metadata": {},
   "outputs": [
    {
     "data": {
      "text/html": [
       "<div>\n",
       "<style scoped>\n",
       "    .dataframe tbody tr th:only-of-type {\n",
       "        vertical-align: middle;\n",
       "    }\n",
       "\n",
       "    .dataframe tbody tr th {\n",
       "        vertical-align: top;\n",
       "    }\n",
       "\n",
       "    .dataframe thead th {\n",
       "        text-align: right;\n",
       "    }\n",
       "</style>\n",
       "<table border=\"1\" class=\"dataframe\">\n",
       "  <thead>\n",
       "    <tr style=\"text-align: right;\">\n",
       "      <th></th>\n",
       "      <th>job</th>\n",
       "      <th>marital</th>\n",
       "      <th>education</th>\n",
       "      <th>default</th>\n",
       "      <th>housing</th>\n",
       "      <th>loan</th>\n",
       "      <th>contact</th>\n",
       "      <th>month</th>\n",
       "      <th>poutcome</th>\n",
       "      <th>deposit</th>\n",
       "    </tr>\n",
       "  </thead>\n",
       "  <tbody>\n",
       "    <tr>\n",
       "      <th>count</th>\n",
       "      <td>10084</td>\n",
       "      <td>10084</td>\n",
       "      <td>10084</td>\n",
       "      <td>10084</td>\n",
       "      <td>10084</td>\n",
       "      <td>10084</td>\n",
       "      <td>10084</td>\n",
       "      <td>10084</td>\n",
       "      <td>10084</td>\n",
       "      <td>10084</td>\n",
       "    </tr>\n",
       "    <tr>\n",
       "      <th>unique</th>\n",
       "      <td>11</td>\n",
       "      <td>3</td>\n",
       "      <td>3</td>\n",
       "      <td>2</td>\n",
       "      <td>2</td>\n",
       "      <td>2</td>\n",
       "      <td>3</td>\n",
       "      <td>12</td>\n",
       "      <td>4</td>\n",
       "      <td>2</td>\n",
       "    </tr>\n",
       "    <tr>\n",
       "      <th>top</th>\n",
       "      <td>management</td>\n",
       "      <td>married</td>\n",
       "      <td>secondary</td>\n",
       "      <td>no</td>\n",
       "      <td>no</td>\n",
       "      <td>no</td>\n",
       "      <td>cellular</td>\n",
       "      <td>may</td>\n",
       "      <td>unknown</td>\n",
       "      <td>no</td>\n",
       "    </tr>\n",
       "    <tr>\n",
       "      <th>freq</th>\n",
       "      <td>2310</td>\n",
       "      <td>5701</td>\n",
       "      <td>5507</td>\n",
       "      <td>9920</td>\n",
       "      <td>5238</td>\n",
       "      <td>8693</td>\n",
       "      <td>7271</td>\n",
       "      <td>2607</td>\n",
       "      <td>7553</td>\n",
       "      <td>5404</td>\n",
       "    </tr>\n",
       "  </tbody>\n",
       "</table>\n",
       "</div>"
      ],
      "text/plain": [
       "               job  marital  education default housing   loan   contact  \\\n",
       "count        10084    10084      10084   10084   10084  10084     10084   \n",
       "unique          11        3          3       2       2      2         3   \n",
       "top     management  married  secondary      no      no     no  cellular   \n",
       "freq          2310     5701       5507    9920    5238   8693      7271   \n",
       "\n",
       "        month poutcome deposit  \n",
       "count   10084    10084   10084  \n",
       "unique     12        4       2  \n",
       "top       may  unknown      no  \n",
       "freq     2607     7553    5404  "
      ]
     },
     "execution_count": 118,
     "metadata": {},
     "output_type": "execute_result"
    }
   ],
   "source": [
    "#рассчитайте описательные статистики для категориальных переменных, проинтерпретируйте результат\n",
    "#ваш код\n",
    "#постройте визуализации, иллюстрирующие результаты\n",
    "df_clear.describe(include='object')"
   ]
  },
  {
   "cell_type": "markdown",
   "id": "472cff5b",
   "metadata": {},
   "source": [
    "### Задание 6"
   ]
  },
  {
   "cell_type": "code",
   "execution_count": 138,
   "id": "2d640ce1",
   "metadata": {},
   "outputs": [
    {
     "data": {
      "text/plain": [
       "poutcome  deposit\n",
       "failure   no          562\n",
       "          yes         546\n",
       "other     yes         264\n",
       "          no          216\n",
       "success   yes         859\n",
       "          no           84\n",
       "unknown   no         4542\n",
       "          yes        3011\n",
       "Name: deposit, dtype: int64"
      ]
     },
     "execution_count": 138,
     "metadata": {},
     "output_type": "execute_result"
    }
   ],
   "source": [
    "# Узнайте, для какого статуса предыдущей маркетинговой кампании успех в текущей превалирует над количеством неудач.\n",
    "# ваш код\n",
    "df_clear.groupby('poutcome')['deposit'].value_counts()"
   ]
  },
  {
   "cell_type": "markdown",
   "id": "9c32e3aa",
   "metadata": {},
   "source": [
    "### Задание 7"
   ]
  },
  {
   "cell_type": "code",
   "execution_count": 146,
   "id": "df437ec3",
   "metadata": {},
   "outputs": [
    {
     "data": {
      "text/plain": [
       "month\n",
       "dec       9\n",
       "mar      24\n",
       "sep      46\n",
       "oct      61\n",
       "jan     194\n",
       "apr     317\n",
       "feb     322\n",
       "nov     452\n",
       "jun     606\n",
       "aug     772\n",
       "jul     834\n",
       "may    1767\n",
       "Name: deposit, dtype: int64"
      ]
     },
     "execution_count": 146,
     "metadata": {},
     "output_type": "execute_result"
    }
   ],
   "source": [
    "# узнайте, в каком месяце чаще всего отказывались от предложения открыть депозит\n",
    "# ваш код\n",
    "df_clear[df_clear['deposit'] == 'no'].groupby('month')['deposit'].count().sort_values()"
   ]
  },
  {
   "cell_type": "markdown",
   "id": "5f20762f",
   "metadata": {},
   "source": [
    "### Задание 8"
   ]
  },
  {
   "cell_type": "code",
   "execution_count": 9,
   "id": "95d56f1b",
   "metadata": {},
   "outputs": [],
   "source": [
    "# создайте возрастные группы и определите, в каких группах более склонны открывать депозит, чем отказываться от предложения\n",
    "def age_group(age):\n",
    "    if age < 30:\n",
    "        return '<30'\n",
    "    elif age < 40:\n",
    "        return '30-40'\n",
    "    elif age < 50:\n",
    "        return '40-50'\n",
    "    elif age < 60:\n",
    "        return '50-60'\n",
    "    return '60+'\n",
    "df_clear['age_group'] = df_clear['age'].apply(age_group)"
   ]
  },
  {
   "cell_type": "code",
   "execution_count": 16,
   "id": "d79af73a",
   "metadata": {},
   "outputs": [
    {
     "data": {
      "text/plain": [
       "<AxesSubplot: xlabel='age_group', ylabel='Count'>"
      ]
     },
     "execution_count": 16,
     "metadata": {},
     "output_type": "execute_result"
    },
    {
     "data": {
      "image/png": "[encoded data removed]",
      "text/plain": [
       "<Figure size 576x396 with 1 Axes>"
      ]
     },
     "metadata": {},
     "output_type": "display_data"
    }
   ],
   "source": [
    "sns.histplot(data=df_clear, x='age_group', hue='deposit', multiple='dodge', shrink=.8)"
   ]
  },
  {
   "cell_type": "markdown",
   "id": "0841c685",
   "metadata": {},
   "source": [
    "### Задания 9 и 10"
   ]
  },
  {
   "cell_type": "code",
   "execution_count": 17,
   "id": "0d84a9e1",
   "metadata": {},
   "outputs": [
    {
     "data": {
      "text/plain": [
       "<AxesSubplot: xlabel='marital', ylabel='Count'>"
      ]
     },
     "execution_count": 17,
     "metadata": {},
     "output_type": "execute_result"
    },
    {
     "data": {
      "image/png": "[encoded data removed]",
      "text/plain": [
       "<Figure size 576x396 with 1 Axes>"
      ]
     },
     "metadata": {},
     "output_type": "display_data"
    }
   ],
   "source": [
    "# постройте визуализации для открывших и неоткрывших депозит в зависимости от семейного статуса\n",
    "sns.histplot(data=df_clear, x='marital', hue='deposit', multiple='dodge', shrink=.8)"
   ]
  },
  {
   "cell_type": "code",
   "execution_count": 18,
   "id": "16333967",
   "metadata": {},
   "outputs": [
    {
     "data": {
      "text/plain": [
       "<AxesSubplot: xlabel='education', ylabel='Count'>"
      ]
     },
     "execution_count": 18,
     "metadata": {},
     "output_type": "execute_result"
    },
    {
     "data": {
      "image/png": "[encoded data removed]",
      "text/plain": [
       "<Figure size 576x396 with 1 Axes>"
      ]
     },
     "metadata": {},
     "output_type": "display_data"
    }
   ],
   "source": [
    "# постройте визуализации для открывших и неоткрывших депозит в зависимости от образования\n",
    "sns.histplot(data=df_clear, x='education', hue='deposit', multiple='dodge', shrink=.8)"
   ]
  },
  {
   "cell_type": "code",
   "execution_count": 19,
   "id": "738224f8",
   "metadata": {},
   "outputs": [
    {
     "data": {
      "image/png": "[encoded data removed]",
      "text/plain": [
       "<Figure size 576x396 with 1 Axes>"
      ]
     },
     "metadata": {},
     "output_type": "display_data"
    }
   ],
   "source": [
    "# постройте визуализации для открывших и неоткрывших депозит в зависимости от вида профессиональной занятости\n",
    "sns.histplot(data=df_clear, x='job', hue='deposit', multiple='dodge', shrink=.8).xaxis.set_tick_params(rotation=45)"
   ]
  },
  {
   "cell_type": "markdown",
   "id": "a521e204",
   "metadata": {},
   "source": [
    "### Задание 11"
   ]
  },
  {
   "cell_type": "code",
   "execution_count": 20,
   "id": "35ab0413",
   "metadata": {},
   "outputs": [
    {
     "data": {
      "text/plain": [
       "<AxesSubplot: xlabel='education', ylabel='marital'>"
      ]
     },
     "execution_count": 20,
     "metadata": {},
     "output_type": "execute_result"
    },
    {
     "data": {
      "image/png": "[encoded data removed]",
      "text/plain": [
       "<Figure size 1296x576 with 2 Axes>"
      ]
     },
     "metadata": {},
     "output_type": "display_data"
    }
   ],
   "source": [
    "# постройте сводную таблицу, чтобы определить люди с каким образованием и семейным статусом наиболее многочисленны\n",
    "#(если рассматривать тех, кто открыл депозит)\n",
    "pivot = df_clear[df_clear['deposit'] == 'yes'].pivot_table(\n",
    "    values='deposit',\n",
    "    index='marital',\n",
    "    columns=['education'],\n",
    "    aggfunc='count'\n",
    ")\n",
    "#pivot.columns = ['_'.join(col) for col in pivot.columns.values]\n",
    "fig = plt.figure(figsize=(18,8))\n",
    "sns.heatmap(pivot, annot=True, fmt='.0f')"
   ]
  },
  {
   "cell_type": "code",
   "execution_count": 48,
   "id": "2f45dd6f",
   "metadata": {},
   "outputs": [
    {
     "data": {
      "text/plain": [
       "<AxesSubplot: xlabel='education', ylabel='marital'>"
      ]
     },
     "execution_count": 48,
     "metadata": {},
     "output_type": "execute_result"
    },
    {
     "data": {
      "image/png": "[encoded data removed]",
      "text/plain": [
       "<Figure size 1296x576 with 2 Axes>"
      ]
     },
     "metadata": {},
     "output_type": "display_data"
    }
   ],
   "source": [
    "pivot = df_clear[df_clear['deposit'] == 'no'].pivot_table(\n",
    "    values='deposit',\n",
    "    index='marital',\n",
    "    columns=['education'],\n",
    "    aggfunc='count'\n",
    ")\n",
    "#pivot.columns = ['_'.join(col) for col in pivot.columns.values]\n",
    "fig = plt.figure(figsize=(18,8))\n",
    "sns.heatmap(pivot, annot=True, fmt='.0f')"
   ]
  },
  {
   "cell_type": "markdown",
   "id": "dfd805c0",
   "metadata": {},
   "source": [
    "## Часть 3: преобразование данных"
   ]
  },
  {
   "cell_type": "markdown",
   "id": "e44e715b",
   "metadata": {},
   "source": [
    "### Задание 1"
   ]
  },
  {
   "cell_type": "code",
   "execution_count": 10,
   "id": "1e815773",
   "metadata": {},
   "outputs": [
    {
     "data": {
      "text/plain": [
       "11995"
      ]
     },
     "execution_count": 10,
     "metadata": {},
     "output_type": "execute_result"
    }
   ],
   "source": [
    "# преобразуйте уровни образования\n",
    "lcoder = LabelEncoder()\n",
    "df_clear['education'] = lcoder.fit_transform(df_clear['education'])\n",
    "df_clear['education'].sum()"
   ]
  },
  {
   "cell_type": "code",
   "execution_count": 11,
   "id": "8da951b2",
   "metadata": {},
   "outputs": [],
   "source": [
    "lcoder_age = LabelEncoder()\n",
    "df_clear['age_group'] = lcoder_age.fit_transform(df_clear['age_group'])"
   ]
  },
  {
   "cell_type": "markdown",
   "id": "8c93e73d",
   "metadata": {},
   "source": [
    "### Задания 2 и 3"
   ]
  },
  {
   "cell_type": "code",
   "execution_count": 12,
   "id": "626a5762",
   "metadata": {},
   "outputs": [],
   "source": [
    "# преобразуйте бинарные переменные в представление из нулей и единиц\n",
    "binary_columns = ['deposit', 'default', 'housing', 'loan']\n",
    "for col in binary_columns:\n",
    "    df_clear[col] = df_clear[col].apply(lambda x: 1 if x == 'yes' else 0)"
   ]
  },
  {
   "cell_type": "code",
   "execution_count": 13,
   "id": "6310f6e8",
   "metadata": {},
   "outputs": [
    {
     "name": "stdout",
     "output_type": "stream",
     "text": [
      "Std deposit: 0.499\n",
      "summ_mean : 0.635\n"
     ]
    }
   ],
   "source": [
    "print(f\"Std deposit: {df_clear['deposit'].std():.3f}\")\n",
    "sum_mean = 0\n",
    "for col in ['default', 'housing', 'loan']:\n",
    "    sum_mean += df_clear[col].mean()\n",
    "print(f\"summ_mean : {sum_mean:.3f}\")"
   ]
  },
  {
   "cell_type": "markdown",
   "id": "c40dc02a",
   "metadata": {},
   "source": [
    "### Задание 4"
   ]
  },
  {
   "cell_type": "code",
   "execution_count": 14,
   "id": "b996883f",
   "metadata": {},
   "outputs": [
    {
     "data": {
      "text/plain": [
       "(10105, 51)"
      ]
     },
     "execution_count": 14,
     "metadata": {},
     "output_type": "execute_result"
    }
   ],
   "source": [
    "# создайте дамми-переменные\n",
    "t = df_clear.copy()\n",
    "t = pd.get_dummies(t[['job','marital','contact','month','poutcome']])\n",
    "t2 = pd.concat([df_clear, t], axis=1)\n",
    "t2.shape"
   ]
  },
  {
   "cell_type": "code",
   "execution_count": 256,
   "id": "0bea3d2c",
   "metadata": {},
   "outputs": [
    {
     "name": "stdout",
     "output_type": "stream",
     "text": [
      "<class 'pandas.core.frame.DataFrame'>\n",
      "Int64Index: 10105 entries, 0 to 11161\n",
      "Data columns (total 51 columns):\n",
      " #   Column             Non-Null Count  Dtype  \n",
      "---  ------             --------------  -----  \n",
      " 0   age                10105 non-null  int64  \n",
      " 1   job                10105 non-null  object \n",
      " 2   marital            10105 non-null  object \n",
      " 3   education          10105 non-null  int32  \n",
      " 4   default            10105 non-null  int64  \n",
      " 5   balance            10105 non-null  float64\n",
      " 6   housing            10105 non-null  int64  \n",
      " 7   loan               10105 non-null  int64  \n",
      " 8   contact            10105 non-null  object \n",
      " 9   day                10105 non-null  int64  \n",
      " 10  month              10105 non-null  object \n",
      " 11  duration           10105 non-null  int64  \n",
      " 12  campaign           10105 non-null  int64  \n",
      " 13  pdays              10105 non-null  int64  \n",
      " 14  previous           10105 non-null  int64  \n",
      " 15  poutcome           10105 non-null  object \n",
      " 16  deposit            10105 non-null  int64  \n",
      " 17  age_group          10105 non-null  int32  \n",
      " 18  job_admin.         10105 non-null  uint8  \n",
      " 19  job_blue-collar    10105 non-null  uint8  \n",
      " 20  job_entrepreneur   10105 non-null  uint8  \n",
      " 21  job_housemaid      10105 non-null  uint8  \n",
      " 22  job_management     10105 non-null  uint8  \n",
      " 23  job_retired        10105 non-null  uint8  \n",
      " 24  job_self-employed  10105 non-null  uint8  \n",
      " 25  job_services       10105 non-null  uint8  \n",
      " 26  job_student        10105 non-null  uint8  \n",
      " 27  job_technician     10105 non-null  uint8  \n",
      " 28  job_unemployed     10105 non-null  uint8  \n",
      " 29  marital_divorced   10105 non-null  uint8  \n",
      " 30  marital_married    10105 non-null  uint8  \n",
      " 31  marital_single     10105 non-null  uint8  \n",
      " 32  contact_cellular   10105 non-null  uint8  \n",
      " 33  contact_telephone  10105 non-null  uint8  \n",
      " 34  contact_unknown    10105 non-null  uint8  \n",
      " 35  month_apr          10105 non-null  uint8  \n",
      " 36  month_aug          10105 non-null  uint8  \n",
      " 37  month_dec          10105 non-null  uint8  \n",
      " 38  month_feb          10105 non-null  uint8  \n",
      " 39  month_jan          10105 non-null  uint8  \n",
      " 40  month_jul          10105 non-null  uint8  \n",
      " 41  month_jun          10105 non-null  uint8  \n",
      " 42  month_mar          10105 non-null  uint8  \n",
      " 43  month_may          10105 non-null  uint8  \n",
      " 44  month_nov          10105 non-null  uint8  \n",
      " 45  month_oct          10105 non-null  uint8  \n",
      " 46  month_sep          10105 non-null  uint8  \n",
      " 47  poutcome_failure   10105 non-null  uint8  \n",
      " 48  poutcome_other     10105 non-null  uint8  \n",
      " 49  poutcome_success   10105 non-null  uint8  \n",
      " 50  poutcome_unknown   10105 non-null  uint8  \n",
      "dtypes: float64(1), int32(2), int64(10), object(5), uint8(33)\n",
      "memory usage: 1.7+ MB\n"
     ]
    }
   ],
   "source": [
    "t2.info()"
   ]
  },
  {
   "cell_type": "markdown",
   "id": "9a23e318",
   "metadata": {},
   "source": [
    "### Задания 5 и 6"
   ]
  },
  {
   "cell_type": "code",
   "execution_count": 26,
   "id": "1c884c1a",
   "metadata": {},
   "outputs": [
    {
     "data": {
      "text/plain": [
       "deposit             1.000000\n",
       "duration            0.457818\n",
       "poutcome_success    0.288491\n",
       "contact_cellular    0.223944\n",
       "pdays               0.147917\n",
       "Name: deposit, dtype: float64"
      ]
     },
     "execution_count": 26,
     "metadata": {},
     "output_type": "execute_result"
    }
   ],
   "source": [
    "# постройте корреляционную матрицу и оцените данные на предмет наличия мультиколлинеарности\n",
    "t2[t2.describe().columns].corr()['deposit'].sort_values(ascending=False).head()"
   ]
  },
  {
   "cell_type": "code",
   "execution_count": 59,
   "id": "14f11466",
   "metadata": {},
   "outputs": [
    {
     "data": {
      "text/plain": [
       "Text(0, 0.5, 'Коэффициент корреляции')"
      ]
     },
     "execution_count": 59,
     "metadata": {},
     "output_type": "execute_result"
    },
    {
     "data": {
      "image/png": "[encoded data removed]",
      "text/plain": [
       "<Figure size 1728x576 with 1 Axes>"
      ]
     },
     "metadata": {},
     "output_type": "display_data"
    }
   ],
   "source": [
    "corr_with_target = t2.corr()['deposit'].abs().sort_values()\n",
    "corr_with_target = corr_with_target.drop('deposit')\n",
    "fig, ax = plt.subplots(figsize=(24,8))\n",
    "sns.barplot(x=corr_with_target.index, y=corr_with_target.values)\n",
    "ax.xaxis.set_tick_params(rotation=90)\n",
    "ax.set_title('Корреляция с целевым признаком')\n",
    "ax.set_xlabel('Факторы')\n",
    "ax.set_ylabel('Коэффициент корреляции');"
   ]
  },
  {
   "cell_type": "code",
   "execution_count": 27,
   "id": "b700ae43",
   "metadata": {},
   "outputs": [
    {
     "data": {
      "text/plain": [
       "True"
      ]
     },
     "execution_count": 27,
     "metadata": {},
     "output_type": "execute_result"
    }
   ],
   "source": [
    "# Есть ли среди признаков мультиколлинеарность? Будем считать достаточно сильной корреляцию не менее 0.9.\n",
    "(t2[t2.describe().columns].corr().values >= 0.9).sum() == t2[t2.describe().columns].shape[1]"
   ]
  },
  {
   "cell_type": "markdown",
   "id": "b5b4c1a5",
   "metadata": {},
   "source": [
    "### Задания 7 и 8"
   ]
  },
  {
   "cell_type": "code",
   "execution_count": 28,
   "id": "79f3e432",
   "metadata": {},
   "outputs": [],
   "source": [
    "df = t2[t2.describe().columns]\n",
    "X = df.drop('deposit', axis=1)\n",
    "y = df['deposit']\n",
    " \n",
    "X_train, X_test, y_train, y_test = train_test_split(X, y, stratify=y, random_state = 42, test_size = 0.33)"
   ]
  },
  {
   "cell_type": "code",
   "execution_count": 29,
   "id": "e3a097a4",
   "metadata": {},
   "outputs": [
    {
     "name": "stdout",
     "output_type": "stream",
     "text": [
      "0.46\n"
     ]
    },
    {
     "data": {
      "text/plain": [
       "(3335, 45)"
      ]
     },
     "execution_count": 29,
     "metadata": {},
     "output_type": "execute_result"
    }
   ],
   "source": [
    "# рассчитайте необходимые показатели\n",
    "print(round(y_test.mean(), 2))\n",
    "X_test.shape"
   ]
  },
  {
   "cell_type": "markdown",
   "id": "2e381a4f",
   "metadata": {},
   "source": [
    "### Задание 9"
   ]
  },
  {
   "cell_type": "code",
   "execution_count": 30,
   "id": "0f6e03e0",
   "metadata": {},
   "outputs": [],
   "source": [
    "# с помощью SelectKBest отберите 15 наиболее подходящих признаков\n",
    "select_kb = SelectKBest(k=15)\n",
    "select_kb.fit(X_train, y_train)\n",
    "k_best_columns = select_kb.get_feature_names_out()\n",
    "X_train = X_train[k_best_columns]\n",
    "X_test = X_test[k_best_columns]"
   ]
  },
  {
   "cell_type": "markdown",
   "id": "60132ef3",
   "metadata": {},
   "source": [
    "### Задание 10"
   ]
  },
  {
   "cell_type": "code",
   "execution_count": 31,
   "id": "e91b06f3",
   "metadata": {},
   "outputs": [],
   "source": [
    "# нормализуйте данные с помощью minmaxsxaler\n",
    "min_scaler = preprocessing.MinMaxScaler()\n",
    "min_scaler.fit(X_train)\n",
    "\n",
    "X_train = pd.DataFrame(min_scaler.transform(X_train), columns=k_best_columns)\n",
    "X_test = pd.DataFrame(min_scaler.transform(X_test), columns=k_best_columns)"
   ]
  },
  {
   "cell_type": "code",
   "execution_count": 32,
   "id": "48cf351d",
   "metadata": {},
   "outputs": [
    {
     "data": {
      "text/plain": [
       "0.47"
      ]
     },
     "execution_count": 32,
     "metadata": {},
     "output_type": "execute_result"
    }
   ],
   "source": [
    "round(X_test.iloc[:,0].mean(), 2)"
   ]
  },
  {
   "cell_type": "markdown",
   "id": "0894c632",
   "metadata": {},
   "source": [
    "# Часть 4: Решение задачи классификации: логистическая регрессия и решающие деревья"
   ]
  },
  {
   "cell_type": "markdown",
   "id": "41b8ff06",
   "metadata": {},
   "source": [
    "### Задание 1"
   ]
  },
  {
   "cell_type": "code",
   "execution_count": 34,
   "id": "8acc0166",
   "metadata": {},
   "outputs": [
    {
     "name": "stdout",
     "output_type": "stream",
     "text": [
      "accuracy: 0.80\n"
     ]
    }
   ],
   "source": [
    "# обучите логистическую регрессию и рассчитайте метрики качества\n",
    "lr = linear_model.LogisticRegression(solver='sag', random_state=42, max_iter=1000)\n",
    "lr.fit(X_train, y_train)\n",
    "train_pred = lr.predict(X_train)\n",
    "test_pred = lr.predict(X_test)\n",
    "print(f\"accuracy: {metrics.accuracy_score(y_test, test_pred):.2f}\")"
   ]
  },
  {
   "cell_type": "markdown",
   "id": "29b7e0ba",
   "metadata": {},
   "source": [
    "### Задания 2,3,4"
   ]
  },
  {
   "cell_type": "code",
   "execution_count": 35,
   "id": "c91a588b",
   "metadata": {},
   "outputs": [
    {
     "name": "stdout",
     "output_type": "stream",
     "text": [
      "accuracy train: 1.00\n",
      "accuracy test: 0.75\n"
     ]
    }
   ],
   "source": [
    "# обучите решающие деревья, настройте максимальную глубину\n",
    "dt = tree.DecisionTreeClassifier(criterion='entropy', random_state=42,)\n",
    "dt.fit(X_train, y_train)\n",
    "train_pred = dt.predict(X_train)\n",
    "test_pred = dt.predict(X_test)\n",
    "print(f\"accuracy train: {metrics.accuracy_score(y_train, train_pred):.2f}\")\n",
    "print(f\"accuracy test: {metrics.accuracy_score(y_test, test_pred):.2f}\")"
   ]
  },
  {
   "cell_type": "code",
   "execution_count": 36,
   "id": "bda2bb63",
   "metadata": {},
   "outputs": [],
   "source": [
    "max_depths = list(range(1,11))\n",
    "accuracy_train = []\n",
    "accuracy_test = []\n",
    "delta_acc = []\n",
    "for max_depth in max_depths:\n",
    "    dt = tree.DecisionTreeClassifier(criterion='entropy', random_state=42, max_depth=max_depth)\n",
    "    dt.fit(X_train, y_train)\n",
    "    acc_train = metrics.accuracy_score(y_train, dt.predict(X_train)).round(3)\n",
    "    acc_test = metrics.accuracy_score(y_test, dt.predict(X_test)).round(3)\n",
    "    delta = acc_train - acc_test\n",
    "    accuracy_train.append(acc_train)\n",
    "    accuracy_test.append(acc_test)\n",
    "    delta_acc.append(delta)"
   ]
  },
  {
   "cell_type": "code",
   "execution_count": 37,
   "id": "481b4534",
   "metadata": {},
   "outputs": [
    {
     "data": {
      "image/png": "[encoded data removed]",
      "text/plain": [
       "<Figure size 1296x576 with 2 Axes>"
      ]
     },
     "metadata": {},
     "output_type": "display_data"
    }
   ],
   "source": [
    "\n",
    "fig, ax = plt.subplots(nrows=1, ncols=2, figsize=(18, 8))\n",
    "ax[0].plot(max_depths, accuracy_train, label='accuracy train')\n",
    "ax[0].plot(max_depths, accuracy_test, label='accuracy test')\n",
    "ax[1].plot(max_depths, delta_acc, label='delta')\n",
    "ax[0].set_xticks(max_depths)\n",
    "ax[1].set_xticks(max_depths)  \n",
    "ax[0].legend()\n",
    "ax[1].legend();"
   ]
  },
  {
   "attachments": {},
   "cell_type": "markdown",
   "id": "45f811b2",
   "metadata": {},
   "source": [
    "На правом графике видно что разница в значениях метрик между тестовой и обучаемой выборками после глубины 6 резко пошла вверх, следовательно оптималная глубина дерева max_depth=6"
   ]
  },
  {
   "cell_type": "code",
   "execution_count": 38,
   "id": "1ac4a93a",
   "metadata": {},
   "outputs": [
    {
     "name": "stdout",
     "output_type": "stream",
     "text": [
      "accuracy train: 0.82\n",
      "accuracy test: 0.81\n"
     ]
    }
   ],
   "source": [
    "dt = tree.DecisionTreeClassifier(criterion='entropy', random_state=42, max_depth=6)\n",
    "dt.fit(X_train, y_train)\n",
    "train_pred = dt.predict(X_train)\n",
    "test_pred = dt.predict(X_test)\n",
    "print(f\"accuracy train: {metrics.accuracy_score(y_train, train_pred):.2f}\")\n",
    "print(f\"accuracy test: {metrics.accuracy_score(y_test, test_pred):.2f}\")"
   ]
  },
  {
   "cell_type": "code",
   "execution_count": 39,
   "id": "d3e60c85",
   "metadata": {},
   "outputs": [
    {
     "name": "stdout",
     "output_type": "stream",
     "text": [
      "              precision    recall  f1-score   support\n",
      "\n",
      "           0       0.85      0.78      0.81      1790\n",
      "           1       0.77      0.84      0.80      1545\n",
      "\n",
      "    accuracy                           0.81      3335\n",
      "   macro avg       0.81      0.81      0.81      3335\n",
      "weighted avg       0.81      0.81      0.81      3335\n",
      "\n"
     ]
    }
   ],
   "source": [
    "print(metrics.classification_report(y_test, test_pred))"
   ]
  },
  {
   "cell_type": "markdown",
   "id": "fe823c18",
   "metadata": {},
   "source": [
    "### Задание 5"
   ]
  },
  {
   "cell_type": "code",
   "execution_count": 43,
   "id": "63574943",
   "metadata": {},
   "outputs": [
    {
     "name": "stdout",
     "output_type": "stream",
     "text": [
      "CPU times: total: 0 ns\n",
      "Wall time: 0 ns\n",
      "F1 train: 0.82\n",
      "F1 test: 0.80\n"
     ]
    }
   ],
   "source": [
    "# подберите оптимальные параметры с помощью gridsearch\n",
    "from sklearn.model_selection import GridSearchCV\n",
    "param_grid = {\n",
    "    'min_samples_split': [2, 5, 7, 10],\n",
    "    'max_depth':[3,5,7]\n",
    "}\n",
    "g_search = GridSearchCV(\n",
    "    estimator=tree.DecisionTreeClassifier(random_state=42),\n",
    "    param_grid=param_grid,\n",
    "    n_jobs=-1\n",
    ")\n",
    "\n",
    "\n",
    "%time\n",
    "g_search.fit(X_train, y_train)\n",
    "print(f\"F1 train: {metrics.f1_score(y_train, g_search.predict(X_train)):.2f}\")\n",
    "print(f\"F1 test: {metrics.f1_score(y_test, g_search.predict(X_test)):.2f}\")"
   ]
  },
  {
   "cell_type": "code",
   "execution_count": 44,
   "id": "29d2777f",
   "metadata": {},
   "outputs": [
    {
     "data": {
      "text/plain": [
       "{'max_depth': 7, 'min_samples_split': 2}"
      ]
     },
     "execution_count": 44,
     "metadata": {},
     "output_type": "execute_result"
    }
   ],
   "source": [
    "g_search.best_params_"
   ]
  },
  {
   "cell_type": "markdown",
   "id": "ed0fc831",
   "metadata": {},
   "source": [
    "# Часть 5: Решение задачи классификации: ансамбли моделей и построение прогноза"
   ]
  },
  {
   "cell_type": "markdown",
   "id": "f9e36ff2",
   "metadata": {},
   "source": [
    "### Задание 1"
   ]
  },
  {
   "cell_type": "code",
   "execution_count": 45,
   "id": "e708e3fe",
   "metadata": {},
   "outputs": [
    {
     "name": "stdout",
     "output_type": "stream",
     "text": [
      "              precision    recall  f1-score   support\n",
      "\n",
      "           0       0.88      0.86      0.87      3634\n",
      "           1       0.84      0.86      0.85      3136\n",
      "\n",
      "    accuracy                           0.86      6770\n",
      "   macro avg       0.86      0.86      0.86      6770\n",
      "weighted avg       0.86      0.86      0.86      6770\n",
      "\n",
      "              precision    recall  f1-score   support\n",
      "\n",
      "           0       0.85      0.82      0.84      1790\n",
      "           1       0.80      0.83      0.82      1545\n",
      "\n",
      "    accuracy                           0.83      3335\n",
      "   macro avg       0.83      0.83      0.83      3335\n",
      "weighted avg       0.83      0.83      0.83      3335\n",
      "\n"
     ]
    }
   ],
   "source": [
    "# обучите на ваших данных случайный лес\n",
    "rf = ensemble.RandomForestClassifier(\n",
    "    n_estimators=100,\n",
    "    criterion='gini',\n",
    "    min_samples_leaf=5,\n",
    "    max_depth=10,\n",
    "    random_state=42\n",
    ")\n",
    "rf.fit(X_train, y_train)\n",
    "print(metrics.classification_report(y_train, rf.predict(X_train)))\n",
    "print(metrics.classification_report(y_test, rf.predict(X_test)))"
   ]
  },
  {
   "cell_type": "code",
   "execution_count": 47,
   "id": "543fc747",
   "metadata": {},
   "outputs": [
    {
     "name": "stdout",
     "output_type": "stream",
     "text": [
      "0.819\n"
     ]
    }
   ],
   "source": [
    "print(metrics.f1_score(y_test, rf.predict(X_test)).round(3))"
   ]
  },
  {
   "cell_type": "markdown",
   "id": "71d7b13d",
   "metadata": {},
   "source": [
    "### Задания 2 и 3"
   ]
  },
  {
   "cell_type": "code",
   "execution_count": 48,
   "id": "99f12dfe",
   "metadata": {},
   "outputs": [
    {
     "name": "stdout",
     "output_type": "stream",
     "text": [
      "              precision    recall  f1-score   support\n",
      "\n",
      "           0       0.85      0.82      0.84      1790\n",
      "           1       0.80      0.83      0.82      1545\n",
      "\n",
      "    accuracy                           0.83      3335\n",
      "   macro avg       0.83      0.83      0.83      3335\n",
      "weighted avg       0.83      0.83      0.83      3335\n",
      "\n"
     ]
    }
   ],
   "source": [
    "# используйте для классификации градиентный бустинг и сравните качество со случайным лесом\n",
    "gb = ensemble.GradientBoostingClassifier(\n",
    "    learning_rate = 0.05,\n",
    "    n_estimators = 300,\n",
    "    min_samples_leaf = 5,\n",
    "    max_depth = 5,\n",
    "    random_state = 42\n",
    ")\n",
    "gb.fit(X_train, y_train)\n",
    "print(metrics.classification_report(y_test, gb.predict(X_test)))\n"
   ]
  },
  {
   "cell_type": "code",
   "execution_count": 49,
   "id": "d3197a9d",
   "metadata": {},
   "outputs": [
    {
     "name": "stdout",
     "output_type": "stream",
     "text": [
      "0.817\n"
     ]
    }
   ],
   "source": [
    "print(metrics.f1_score(y_test, gb.predict(X_test)).round(3))"
   ]
  },
  {
   "cell_type": "markdown",
   "id": "b08718ae",
   "metadata": {},
   "source": [
    "### Задание 4"
   ]
  },
  {
   "cell_type": "code",
   "execution_count": 111,
   "id": "0bd42fb0",
   "metadata": {},
   "outputs": [],
   "source": [
    "# объедините уже известные вам алгоритмы с помощью стекинга \n",
    "estimators = [\n",
    "    ('dt', tree.DecisionTreeClassifier(max_depth=7, min_samples_leaf=2, random_state=42)),\n",
    "    ('lr', linear_model.LogisticRegression(solver='sag', random_state=42, max_iter=1000)),\n",
    "    ('gb', gb)\n",
    "]\n",
    "clf = ensemble.StackingClassifier(\n",
    "    estimators=estimators,\n",
    "    final_estimator=lr,\n",
    "    n_jobs=-1\n",
    ")\n",
    "clf.fit(X_train, y_train);"
   ]
  },
  {
   "cell_type": "code",
   "execution_count": 160,
   "id": "15429c2e",
   "metadata": {},
   "outputs": [
    {
     "name": "stdout",
     "output_type": "stream",
     "text": [
      "              precision    recall  f1-score   support\n",
      "\n",
      "           0       0.84      0.83      0.84      1790\n",
      "           1       0.81      0.81      0.81      1545\n",
      "\n",
      "    accuracy                           0.82      3335\n",
      "   macro avg       0.82      0.82      0.82      3335\n",
      "weighted avg       0.82      0.82      0.82      3335\n",
      "\n"
     ]
    }
   ],
   "source": [
    "print(metrics.classification_report(y_test, clf.predict(X_test)))"
   ]
  },
  {
   "cell_type": "markdown",
   "id": "6247a5fb",
   "metadata": {},
   "source": [
    "### Задание 5"
   ]
  },
  {
   "cell_type": "code",
   "execution_count": 140,
   "id": "35de769c",
   "metadata": {},
   "outputs": [
    {
     "data": {
      "image/png": "[encoded data removed]",
      "text/plain": [
       "<Figure size 1296x360 with 2 Axes>"
      ]
     },
     "metadata": {},
     "output_type": "display_data"
    }
   ],
   "source": [
    "fig, ax = plt.subplots(1, 2, figsize=(18,5))\n",
    "columns = clf.estimators_[2].feature_names_in_\n",
    "feature_importances = clf.estimators_[2].feature_importances_\n",
    "sns.barplot(x=clf.estimators_[0].feature_names_in_, y=clf.estimators_[0].feature_importances_, ax=ax[0]).xaxis.set_tick_params(rotation=90)\n",
    "sns.barplot(x=clf.estimators_[2].feature_names_in_, y=clf.estimators_[2].feature_importances_, ax=ax[1]).xaxis.set_tick_params(rotation=90)\n",
    "plt.tight_layout();\n",
    "\n"
   ]
  },
  {
   "cell_type": "code",
   "execution_count": 144,
   "id": "bef336d9",
   "metadata": {},
   "outputs": [
    {
     "data": {
      "image/png": "[encoded data removed]",
      "text/plain": [
       "<Figure size 1080x576 with 1 Axes>"
      ]
     },
     "metadata": {},
     "output_type": "display_data"
    }
   ],
   "source": [
    "selector = SelectKBest(f_classif, k=3)\n",
    "selector.fit(X_train, y_train)\n",
    " \n",
    "fig, ax = plt.subplots(figsize=(15,8))\n",
    "columns = X_train.columns\n",
    "features = selector.scores_\n",
    "sns.barplot(x=columns, y=features).xaxis.set_tick_params(rotation=90)\n"
   ]
  },
  {
   "cell_type": "markdown",
   "id": "96974dda",
   "metadata": {},
   "source": [
    "### Задания 6,7,8"
   ]
  },
  {
   "cell_type": "code",
   "execution_count": 3,
   "id": "35f3e8c5",
   "metadata": {},
   "outputs": [],
   "source": [
    "import optuna"
   ]
  },
  {
   "cell_type": "code",
   "execution_count": 157,
   "id": "c48e29e9",
   "metadata": {},
   "outputs": [],
   "source": [
    "# реализуйте оптимизацию гиперпараметров с помощью Optuna\n",
    "\n",
    "def optuna_rf(trial):\n",
    "  # задаем пространства поиска гиперпараметров\n",
    "  n_estimators = trial.suggest_int('n_estimators', 100, 200, 1)\n",
    "  max_depth = trial.suggest_int('max_depth', 10, 30, 1)\n",
    "  min_samples_leaf = trial.suggest_int('min_samples_leaf', 2, 10, 1)\n",
    "\n",
    "  # создаем модель\n",
    "  model = ensemble.RandomForestClassifier(n_estimators=n_estimators,\n",
    "                                          max_depth=max_depth,\n",
    "                                          min_samples_leaf=min_samples_leaf,\n",
    "                                          random_state=42)\n",
    "  # обучаем модель\n",
    "  model.fit(X_train, y_train)\n",
    "  score = metrics.f1_score(y_train, model.predict(X_train))\n",
    "\n",
    "  return score\n",
    "\n"
   ]
  },
  {
   "cell_type": "code",
   "execution_count": 158,
   "id": "1c531c08",
   "metadata": {},
   "outputs": [
    {
     "name": "stderr",
     "output_type": "stream",
     "text": [
      "\u001b[32m[I 2023-03-22 17:11:49,056]\u001b[0m A new study created in memory with name: RandomForestClassifier\u001b[0m\n"
     ]
    },
    {
     "name": "stdout",
     "output_type": "stream",
     "text": [
      "CPU times: total: 0 ns\n",
      "Wall time: 0 ns\n"
     ]
    },
    {
     "name": "stderr",
     "output_type": "stream",
     "text": [
      "\u001b[32m[I 2023-03-22 17:11:50,350]\u001b[0m Trial 0 finished with value: 0.8562480425931726 and parameters: {'n_estimators': 178, 'max_depth': 13, 'min_samples_leaf': 6}. Best is trial 0 with value: 0.8562480425931726.\u001b[0m\n",
      "\u001b[32m[I 2023-03-22 17:11:51,366]\u001b[0m Trial 1 finished with value: 0.8521547656495754 and parameters: {'n_estimators': 168, 'max_depth': 11, 'min_samples_leaf': 5}. Best is trial 0 with value: 0.8562480425931726.\u001b[0m\n",
      "\u001b[32m[I 2023-03-22 17:11:52,521]\u001b[0m Trial 2 finished with value: 0.8587923232953658 and parameters: {'n_estimators': 171, 'max_depth': 15, 'min_samples_leaf': 6}. Best is trial 2 with value: 0.8587923232953658.\u001b[0m\n",
      "\u001b[32m[I 2023-03-22 17:11:53,641]\u001b[0m Trial 3 finished with value: 0.8936502971535816 and parameters: {'n_estimators': 150, 'max_depth': 30, 'min_samples_leaf': 3}. Best is trial 3 with value: 0.8936502971535816.\u001b[0m\n",
      "\u001b[32m[I 2023-03-22 17:11:55,027]\u001b[0m Trial 4 finished with value: 0.8946956657800033 and parameters: {'n_estimators': 177, 'max_depth': 28, 'min_samples_leaf': 3}. Best is trial 4 with value: 0.8946956657800033.\u001b[0m\n",
      "\u001b[32m[I 2023-03-22 17:11:55,769]\u001b[0m Trial 5 finished with value: 0.8614325930559898 and parameters: {'n_estimators': 117, 'max_depth': 28, 'min_samples_leaf': 6}. Best is trial 4 with value: 0.8946956657800033.\u001b[0m\n",
      "\u001b[32m[I 2023-03-22 17:11:56,869]\u001b[0m Trial 6 finished with value: 0.8705845576742731 and parameters: {'n_estimators': 165, 'max_depth': 19, 'min_samples_leaf': 5}. Best is trial 4 with value: 0.8946956657800033.\u001b[0m\n",
      "\u001b[32m[I 2023-03-22 17:11:57,730]\u001b[0m Trial 7 finished with value: 0.8612978889757622 and parameters: {'n_estimators': 126, 'max_depth': 19, 'min_samples_leaf': 6}. Best is trial 4 with value: 0.8946956657800033.\u001b[0m\n",
      "\u001b[32m[I 2023-03-22 17:11:58,850]\u001b[0m Trial 8 finished with value: 0.8440050219711238 and parameters: {'n_estimators': 191, 'max_depth': 12, 'min_samples_leaf': 10}. Best is trial 4 with value: 0.8946956657800033.\u001b[0m\n",
      "\u001b[32m[I 2023-03-22 17:11:59,810]\u001b[0m Trial 9 finished with value: 0.8610371298762338 and parameters: {'n_estimators': 129, 'max_depth': 20, 'min_samples_leaf': 6}. Best is trial 4 with value: 0.8946956657800033.\u001b[0m\n",
      "\u001b[32m[I 2023-03-22 17:12:01,542]\u001b[0m Trial 10 finished with value: 0.9253170502583372 and parameters: {'n_estimators': 197, 'max_depth': 25, 'min_samples_leaf': 2}. Best is trial 10 with value: 0.9253170502583372.\u001b[0m\n",
      "\u001b[32m[I 2023-03-22 17:12:03,549]\u001b[0m Trial 11 finished with value: 0.9247884675650266 and parameters: {'n_estimators': 199, 'max_depth': 25, 'min_samples_leaf': 2}. Best is trial 10 with value: 0.9253170502583372.\u001b[0m\n",
      "\u001b[32m[I 2023-03-22 17:12:05,163]\u001b[0m Trial 12 finished with value: 0.924185463659148 and parameters: {'n_estimators': 200, 'max_depth': 24, 'min_samples_leaf': 2}. Best is trial 10 with value: 0.9253170502583372.\u001b[0m\n",
      "\u001b[32m[I 2023-03-22 17:12:06,593]\u001b[0m Trial 13 finished with value: 0.9243539545810493 and parameters: {'n_estimators': 197, 'max_depth': 24, 'min_samples_leaf': 2}. Best is trial 10 with value: 0.9253170502583372.\u001b[0m\n",
      "\u001b[32m[I 2023-03-22 17:12:07,469]\u001b[0m Trial 14 finished with value: 0.8456101774776189 and parameters: {'n_estimators': 154, 'max_depth': 24, 'min_samples_leaf': 10}. Best is trial 10 with value: 0.9253170502583372.\u001b[0m\n",
      "\u001b[32m[I 2023-03-22 17:12:08,658]\u001b[0m Trial 15 finished with value: 0.8778506716651046 and parameters: {'n_estimators': 186, 'max_depth': 23, 'min_samples_leaf': 4}. Best is trial 10 with value: 0.9253170502583372.\u001b[0m\n",
      "\u001b[32m[I 2023-03-22 17:12:09,464]\u001b[0m Trial 16 finished with value: 0.8538798498122653 and parameters: {'n_estimators': 143, 'max_depth': 27, 'min_samples_leaf': 8}. Best is trial 10 with value: 0.9253170502583372.\u001b[0m\n",
      "\u001b[32m[I 2023-03-22 17:12:10,143]\u001b[0m Trial 17 finished with value: 0.891494684177611 and parameters: {'n_estimators': 102, 'max_depth': 22, 'min_samples_leaf': 3}. Best is trial 10 with value: 0.9253170502583372.\u001b[0m\n",
      "\u001b[32m[I 2023-03-22 17:12:11,674]\u001b[0m Trial 18 finished with value: 0.92524682651622 and parameters: {'n_estimators': 189, 'max_depth': 26, 'min_samples_leaf': 2}. Best is trial 10 with value: 0.9253170502583372.\u001b[0m\n",
      "\u001b[32m[I 2023-03-22 17:12:12,757]\u001b[0m Trial 19 finished with value: 0.8514106583072101 and parameters: {'n_estimators': 186, 'max_depth': 16, 'min_samples_leaf': 8}. Best is trial 10 with value: 0.9253170502583372.\u001b[0m\n"
     ]
    }
   ],
   "source": [
    "%time\n",
    "# cоздаем объект исследования\n",
    "# можем напрямую указать, что нам необходимо максимизировать метрику direction=\"maximize\"\n",
    "study = optuna.create_study(study_name=\"RandomForestClassifier\", direction=\"maximize\")\n",
    "# ищем лучшую комбинацию гиперпараметров n_trials раз\n",
    "study.optimize(optuna_rf, n_trials=20)"
   ]
  },
  {
   "cell_type": "code",
   "execution_count": 159,
   "id": "0b269195",
   "metadata": {},
   "outputs": [
    {
     "name": "stdout",
     "output_type": "stream",
     "text": [
      "accuracy на тестовом наборе: 0.82\n",
      "f1_score на тестовом наборе: 0.82\n"
     ]
    }
   ],
   "source": [
    "# рассчитаем точность для тестовой выборки\n",
    "model = ensemble.RandomForestClassifier(**study.best_params,random_state=42)\n",
    "model.fit(X_train, y_train)\n",
    "y_train_pred = model.predict(X_train)\n",
    "print(\"accuracy на тестовом наборе: {:.2f}\".format(model.score(X_test, y_test)))\n",
    "y_test_pred = model.predict(X_test)\n",
    "print('f1_score на тестовом наборе: {:.2f}'.format(metrics.f1_score(y_test, y_test_pred)))"
   ]
  },
  {
   "cell_type": "code",
   "execution_count": 161,
   "id": "8217ae72",
   "metadata": {},
   "outputs": [
    {
     "name": "stdout",
     "output_type": "stream",
     "text": [
      "              precision    recall  f1-score   support\n",
      "\n",
      "           0       0.86      0.81      0.83      1790\n",
      "           1       0.79      0.84      0.82      1545\n",
      "\n",
      "    accuracy                           0.82      3335\n",
      "   macro avg       0.82      0.83      0.82      3335\n",
      "weighted avg       0.83      0.82      0.82      3335\n",
      "\n"
     ]
    }
   ],
   "source": [
    "print(metrics.classification_report(y_test, y_test_pred))"
   ]
  }
 ],
 "metadata": {
  "kernelspec": {
   "display_name": "Python 3 (ipykernel)",
   "language": "python",
   "name": "python3"
  },
  "language_info": {
   "codemirror_mode": {
    "name": "ipython",
    "version": 3
   },
   "file_extension": ".py",
   "mimetype": "text/x-python",
   "name": "python",
   "nbconvert_exporter": "python",
   "pygments_lexer": "ipython3",
   "version": "3.10.9"
  }
 },
 "nbformat": 4,
 "nbformat_minor": 5
}
